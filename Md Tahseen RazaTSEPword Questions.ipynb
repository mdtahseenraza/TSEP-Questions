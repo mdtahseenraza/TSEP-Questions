{
  "nbformat": 4,
  "nbformat_minor": 0,
  "metadata": {
    "colab": {
      "provenance": []
    },
    "kernelspec": {
      "name": "python3",
      "display_name": "Python 3"
    },
    "language_info": {
      "name": "python"
    }
  },
  "cells": [
    {
      "cell_type": "markdown",
      "source": [
        "## **TSEP**- **Test**\n",
        "##**Name** - **Md Tahseen Raza**\n",
        "##**System** **id** - **2021470193**"
      ],
      "metadata": {
        "id": "Db7FCG1PF7ke"
      }
    },
    {
      "cell_type": "markdown",
      "source": [
        "##Question 1 of word file"
      ],
      "metadata": {
        "id": "idNIbyuOI6we"
      }
    },
    {
      "cell_type": "markdown",
      "source": [],
      "metadata": {
        "id": "83pwHMVwF5d6"
      }
    },
    {
      "cell_type": "code",
      "execution_count": 2,
      "metadata": {
        "colab": {
          "base_uri": "https://localhost:8080/",
          "height": 0
        },
        "id": "-IKxEbwVDcNE",
        "outputId": "a9bc98da-2907-4185-ff6b-1de08eaf0846"
      },
      "outputs": [
        {
          "output_type": "stream",
          "name": "stdout",
          "text": [
            "Number of elements in the array:  5\n",
            "Length of one array element in bytes:  8\n",
            "Total bytes consumed by the elements:  40\n"
          ]
        }
      ],
      "source": [
        "import numpy as np\n",
        "\n",
        "arr = np.array([1, 2, 3, 4, 5])\n",
        "\n",
        "num_elements = arr.size\n",
        "\n",
        "itemsize = arr.itemsize\n",
        "\n",
        "total_bytes = num_elements * itemsize\n",
        "\n",
        "print(\"Number of elements in the array: \", num_elements)\n",
        "print(\"Length of one array element in bytes: \", itemsize)\n",
        "print(\"Total bytes consumed by the elements: \", total_bytes)"
      ]
    },
    {
      "cell_type": "markdown",
      "source": [
        "##Question 2 of word file"
      ],
      "metadata": {
        "id": "uKRhNRZvJAYt"
      }
    },
    {
      "cell_type": "markdown",
      "source": [
        "## **Concatenation**"
      ],
      "metadata": {
        "id": "z1-UwKVaDrQv"
      }
    },
    {
      "cell_type": "code",
      "source": [
        "arr2 = np.array([6, 7, 8])\n",
        "\n",
        "concat_arr = np.concatenate((arr, arr2))\n",
        "\n",
        "print(\"Concatenated array: \\n\", concat_arr)"
      ],
      "metadata": {
        "colab": {
          "base_uri": "https://localhost:8080/",
          "height": 0
        },
        "id": "XhY4IzbFEBE1",
        "outputId": "ac9ab751-c626-4332-bfea-2e054e2acbba"
      },
      "execution_count": 6,
      "outputs": [
        {
          "output_type": "stream",
          "name": "stdout",
          "text": [
            "Concatenated array: \n",
            " [1 2 3 4 5 6 7 8]\n"
          ]
        }
      ]
    },
    {
      "cell_type": "markdown",
      "source": [
        "## **Any**"
      ],
      "metadata": {
        "id": "bF9cgQnoEfss"
      }
    },
    {
      "cell_type": "code",
      "source": [
        "any_greater = np.any(arr > 3)\n",
        "\n",
        "print(\"Are any elements greater than 3? \", any_greater)"
      ],
      "metadata": {
        "colab": {
          "base_uri": "https://localhost:8080/",
          "height": 0
        },
        "id": "0pZBz_mhElCs",
        "outputId": "288fc538-4bae-4c68-900d-66ccdc8322cc"
      },
      "execution_count": 4,
      "outputs": [
        {
          "output_type": "stream",
          "name": "stdout",
          "text": [
            "Are any elements greater than 3?  True\n"
          ]
        }
      ]
    },
    {
      "cell_type": "markdown",
      "source": [
        "## **Shape**"
      ],
      "metadata": {
        "id": "P-_pNVKgEtwj"
      }
    },
    {
      "cell_type": "code",
      "source": [
        "arr_shape = arr.shape\n",
        "\n",
        "print(\"Shape of the array: \", arr_shape)"
      ],
      "metadata": {
        "colab": {
          "base_uri": "https://localhost:8080/",
          "height": 0
        },
        "id": "RsOBe5ffE1Yq",
        "outputId": "3d79c9f8-8675-405d-8581-4ac37de829e5"
      },
      "execution_count": 5,
      "outputs": [
        {
          "output_type": "stream",
          "name": "stdout",
          "text": [
            "Shape of the array:  (5,)\n"
          ]
        }
      ]
    },
    {
      "cell_type": "markdown",
      "source": [
        "## **Reshape**"
      ],
      "metadata": {
        "id": "PgiQubDEE84F"
      }
    },
    {
      "cell_type": "code",
      "source": [
        "reshaped_arr = arr.reshape(1, 5)\n",
        "print(\"Reshaped array: \\n\", reshaped_arr)"
      ],
      "metadata": {
        "colab": {
          "base_uri": "https://localhost:8080/",
          "height": 0
        },
        "id": "xOvgfm4XFCix",
        "outputId": "ebb53802-1fc6-49ba-df5f-421798daf0b0"
      },
      "execution_count": 11,
      "outputs": [
        {
          "output_type": "stream",
          "name": "stdout",
          "text": [
            "Reshaped array: \n",
            " [[1 2 3 4 5]]\n"
          ]
        }
      ]
    },
    {
      "cell_type": "markdown",
      "source": [
        "## **Append**"
      ],
      "metadata": {
        "id": "4EkW1KrCFm2w"
      }
    },
    {
      "cell_type": "code",
      "source": [
        "appended_arr = np.append(arr, 6)\n",
        "\n",
        "print(\"Appended array: \\n\", appended_arr)"
      ],
      "metadata": {
        "colab": {
          "base_uri": "https://localhost:8080/",
          "height": 0
        },
        "id": "SIKZ6wadFsqN",
        "outputId": "8b3aab05-5a89-4ca1-8518-bd9e621a5cf5"
      },
      "execution_count": 12,
      "outputs": [
        {
          "output_type": "stream",
          "name": "stdout",
          "text": [
            "Appended array: \n",
            " [1 2 3 4 5 6]\n"
          ]
        }
      ]
    },
    {
      "cell_type": "markdown",
      "source": [
        "### **Extend**"
      ],
      "metadata": {
        "id": "_bb_kRpSFvM-"
      }
    },
    {
      "cell_type": "code",
      "source": [
        "extended_arr = np.concatenate((arr, arr2))\n",
        "\n",
        "print(\"Extended array: \\n\", extended_arr)"
      ],
      "metadata": {
        "id": "bEKH10CcFxu-"
      },
      "execution_count": null,
      "outputs": []
    }
  ]
}