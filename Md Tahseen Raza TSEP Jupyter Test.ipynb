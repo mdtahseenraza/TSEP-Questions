{
  "cells": [
    {
      "cell_type": "markdown",
      "id": "6293cc50",
      "metadata": {
        "id": "6293cc50"
      },
      "source": [
        "##**TSEP Test**\n",
        "\n",
        "##Submitted By = **Md. Tahseen Raza**\n",
        "##System Id = **2021470193**"
      ]
    },
    {
      "cell_type": "markdown",
      "id": "eadca856",
      "metadata": {
        "id": "eadca856"
      },
      "source": [
        "#### 30. How to find common values between two arrays? (★☆☆)"
      ]
    },
    {
      "cell_type": "code",
      "execution_count": 3,
      "id": "e0270b5b",
      "metadata": {
        "colab": {
          "base_uri": "https://localhost:8080/"
        },
        "id": "e0270b5b",
        "outputId": "9a56f546-888b-4e95-bd30-de610a729bb0"
      },
      "outputs": [
        {
          "output_type": "stream",
          "name": "stdout",
          "text": [
            "{4, 5}\n"
          ]
        }
      ],
      "source": [
        "array1 = [1, 2, 3, 4, 5]\n",
        "array2 = [4, 5, 6, 7, 8]\n",
        "\n",
        "common_values = set(array1) & set(array2)\n",
        "print(common_values)\n"
      ]
    },
    {
      "cell_type": "markdown",
      "id": "ca16ca22",
      "metadata": {
        "id": "ca16ca22"
      },
      "source": [
        "#### 31. How to ignore all numpy warnings (not recommended)? (★☆☆)"
      ]
    },
    {
      "cell_type": "code",
      "execution_count": 4,
      "id": "7d7208ef",
      "metadata": {
        "colab": {
          "base_uri": "https://localhost:8080/"
        },
        "id": "7d7208ef",
        "outputId": "2ee75fb2-299e-4c26-825c-66050c6f198a"
      },
      "outputs": [
        {
          "output_type": "execute_result",
          "data": {
            "text/plain": [
              "{'divide': 'warn', 'over': 'warn', 'under': 'ignore', 'invalid': 'warn'}"
            ]
          },
          "metadata": {},
          "execution_count": 4
        }
      ],
      "source": [
        "import numpy as np\n",
        "\n",
        "np.seterr(all='ignore')\n"
      ]
    },
    {
      "cell_type": "markdown",
      "id": "c7871d0d",
      "metadata": {
        "id": "c7871d0d"
      },
      "source": [
        "#### 32. Is the following expressions true? (★☆☆)\n",
        "```python\n",
        "np.sqrt(-1) == np.emath.sqrt(-1)\n",
        "```"
      ]
    },
    {
      "cell_type": "markdown",
      "id": "e0433e30",
      "metadata": {
        "id": "e0433e30"
      },
      "source": [
        "#### 33. How to get the dates of yesterday, today and tomorrow? (★☆☆)"
      ]
    },
    {
      "cell_type": "code",
      "execution_count": 6,
      "id": "9c4d2152",
      "metadata": {
        "colab": {
          "base_uri": "https://localhost:8080/"
        },
        "id": "9c4d2152",
        "outputId": "329df838-27f5-438d-ae4f-9716060e252d"
      },
      "outputs": [
        {
          "output_type": "stream",
          "name": "stdout",
          "text": [
            "Yesterday: 2024-04-15\n",
            "Today: 2024-04-16\n",
            "Tomorrow: 2024-04-17\n"
          ]
        }
      ],
      "source": [
        "from datetime import datetime, timedelta\n",
        "\n",
        "today = datetime.now().date()\n",
        "\n",
        "yesterday = today - timedelta(days=1)\n",
        "\n",
        "tomorrow = today + timedelta(days=1)\n",
        "\n",
        "print(\"Yesterday:\", yesterday)\n",
        "print(\"Today:\", today)\n",
        "print(\"Tomorrow:\", tomorrow)\n"
      ]
    },
    {
      "cell_type": "markdown",
      "id": "9f52a2ef",
      "metadata": {
        "id": "9f52a2ef"
      },
      "source": [
        "#### 34. How to get all the dates corresponding to the month of July 2016? (★★☆)"
      ]
    },
    {
      "cell_type": "code",
      "execution_count": 7,
      "id": "d6c34dec",
      "metadata": {
        "colab": {
          "base_uri": "https://localhost:8080/"
        },
        "id": "d6c34dec",
        "outputId": "97700109-a5a2-4832-b0ba-3c83fd0990ed"
      },
      "outputs": [
        {
          "output_type": "stream",
          "name": "stdout",
          "text": [
            "2016-07-01\n",
            "2016-07-02\n",
            "2016-07-03\n",
            "2016-07-04\n",
            "2016-07-05\n",
            "2016-07-06\n",
            "2016-07-07\n",
            "2016-07-08\n",
            "2016-07-09\n",
            "2016-07-10\n",
            "2016-07-11\n",
            "2016-07-12\n",
            "2016-07-13\n",
            "2016-07-14\n",
            "2016-07-15\n",
            "2016-07-16\n",
            "2016-07-17\n",
            "2016-07-18\n",
            "2016-07-19\n",
            "2016-07-20\n",
            "2016-07-21\n",
            "2016-07-22\n",
            "2016-07-23\n",
            "2016-07-24\n",
            "2016-07-25\n",
            "2016-07-26\n",
            "2016-07-27\n",
            "2016-07-28\n",
            "2016-07-29\n",
            "2016-07-30\n",
            "2016-07-31\n"
          ]
        }
      ],
      "source": [
        "from datetime import datetime, timedelta\n",
        "\n",
        "start_date = datetime(2016, 7, 1)\n",
        "end_date = datetime(2016, 7, 31)\n",
        "\n",
        "dates_in_july_2016 = [start_date + timedelta(days=i) for i in range((end_date - start_date).days + 1)]\n",
        "\n",
        "for date in dates_in_july_2016:\n",
        "    print(date.date())\n"
      ]
    },
    {
      "cell_type": "markdown",
      "id": "4a64e059",
      "metadata": {
        "id": "4a64e059"
      },
      "source": [
        "#### 35. How to compute ((A+B)*(-A/2)) in place (without copy)? (★★☆)"
      ]
    },
    {
      "cell_type": "code",
      "execution_count": 9,
      "id": "49267f60",
      "metadata": {
        "colab": {
          "base_uri": "https://localhost:8080/"
        },
        "id": "49267f60",
        "outputId": "aaf7c1cc-0cac-4c5e-ad62-2e0ec7271276"
      },
      "outputs": [
        {
          "output_type": "stream",
          "name": "stdout",
          "text": [
            "[3.5 4.  4.5]\n"
          ]
        }
      ],
      "source": [
        "import numpy as np\n",
        "\n",
        "A = np.array([1, 2, 3], dtype=float)\n",
        "B = np.array([4, 5, 6], dtype=float)\n",
        "\n",
        "\n",
        "np.multiply(A, -0.5, out=A)\n",
        "np.add(A, B, out=A)\n",
        "\n",
        "print(A)\n"
      ]
    },
    {
      "cell_type": "markdown",
      "id": "8a98c2a8",
      "metadata": {
        "id": "8a98c2a8"
      },
      "source": [
        "#### 36. Extract the integer part of a random array of positive numbers using 4 different methods (★★☆)"
      ]
    },
    {
      "cell_type": "code",
      "execution_count": 10,
      "id": "368130b3",
      "metadata": {
        "colab": {
          "base_uri": "https://localhost:8080/"
        },
        "id": "368130b3",
        "outputId": "a171b079-eebf-43a6-991b-533d3387fce6"
      },
      "outputs": [
        {
          "output_type": "stream",
          "name": "stdout",
          "text": [
            "Method 1: [1 8 0 1 0]\n",
            "Method 2: [1. 8. 0. 1. 0.]\n",
            "Method 3: [1 8 0 1 0]\n",
            "Method 4: [1 8 0 1 0]\n"
          ]
        }
      ],
      "source": [
        "import numpy as np\n",
        "\n",
        "random_array = np.random.rand(5) * 10\n",
        "integer_part_1 = random_array.astype(int)\n",
        "\n",
        "integer_part_2 = np.floor(random_array)\n",
        "\n",
        "integer_part_3 = np.array(list(map(int, random_array)))\n",
        "\n",
        "integer_part_4 = np.array([int(x) for x in random_array])\n",
        "\n",
        "print(\"Method 1:\", integer_part_1)\n",
        "print(\"Method 2:\", integer_part_2)\n",
        "print(\"Method 3:\", integer_part_3)\n",
        "print(\"Method 4:\", integer_part_4)\n"
      ]
    },
    {
      "cell_type": "markdown",
      "id": "5a2e3d85",
      "metadata": {
        "id": "5a2e3d85"
      },
      "source": [
        "#### 37. Create a 5x5 matrix with row values ranging from 0 to 4 (★★☆)"
      ]
    },
    {
      "cell_type": "code",
      "execution_count": 11,
      "id": "1d974e8f",
      "metadata": {
        "colab": {
          "base_uri": "https://localhost:8080/"
        },
        "id": "1d974e8f",
        "outputId": "f96caa8b-28e5-456a-8c8c-10278efffc5d"
      },
      "outputs": [
        {
          "output_type": "stream",
          "name": "stdout",
          "text": [
            "[[0 1 2 3 4]\n",
            " [1 2 3 4 5]\n",
            " [2 3 4 5 6]\n",
            " [3 4 5 6 7]\n",
            " [4 5 6 7 8]]\n"
          ]
        }
      ],
      "source": [
        "import numpy as np\n",
        "\n",
        "matrix = np.arange(5).reshape(1, -1) + np.arange(5).reshape(-1, 1)\n",
        "\n",
        "print(matrix)\n"
      ]
    },
    {
      "cell_type": "markdown",
      "id": "9720e2d5",
      "metadata": {
        "id": "9720e2d5"
      },
      "source": [
        "#### 38. Consider a generator function that generates 10 integers and use it to build an array (★☆☆)"
      ]
    },
    {
      "cell_type": "code",
      "execution_count": null,
      "id": "e5dd8fc9",
      "metadata": {
        "id": "e5dd8fc9"
      },
      "outputs": [],
      "source": [
        "import numpy as np\n",
        "\n",
        "def generate_integers(n):\n",
        "    for i in range(n):\n",
        "        yield i\n",
        "\n",
        "generator = generate_integers(10)\n",
        "\n",
        "array_from_generator = np.fromiter(generator, dtype=int)\n",
        "\n",
        "print(array_from_generator)\n"
      ]
    },
    {
      "cell_type": "markdown",
      "id": "c6f2c912",
      "metadata": {
        "id": "c6f2c912"
      },
      "source": [
        "#### 39. Create a vector of size 10 with values ranging from 0 to 1, both excluded (★★☆)"
      ]
    },
    {
      "cell_type": "code",
      "execution_count": 14,
      "id": "6aaa27d3",
      "metadata": {
        "colab": {
          "base_uri": "https://localhost:8080/"
        },
        "id": "6aaa27d3",
        "outputId": "bddd6b2c-1313-4dcd-cf7c-8fa688543060"
      },
      "outputs": [
        {
          "output_type": "stream",
          "name": "stdout",
          "text": [
            "0.0\n"
          ]
        }
      ],
      "source": [
        "import numpy as np\n",
        "\n",
        "vector = np.linspace(0, 1, 12)[1-1]\n",
        "\n",
        "print(vector)\n"
      ]
    },
    {
      "cell_type": "markdown",
      "id": "a36d6ee4",
      "metadata": {
        "id": "a36d6ee4"
      },
      "source": [
        "#### 40. Create a random vector of size 10 and sort it (★★☆)"
      ]
    },
    {
      "cell_type": "code",
      "execution_count": 15,
      "id": "e589d216",
      "metadata": {
        "colab": {
          "base_uri": "https://localhost:8080/"
        },
        "id": "e589d216",
        "outputId": "e2d3844b-ed6c-47ac-c4b7-d503eb89141f"
      },
      "outputs": [
        {
          "output_type": "stream",
          "name": "stdout",
          "text": [
            "Original random vector: [0.77003025 0.4468405  0.99256366 0.76678446 0.22379369 0.61287385\n",
            " 0.36427522 0.53643372 0.66410592 0.74743133]\n",
            "Sorted vector: [0.22379369 0.36427522 0.4468405  0.53643372 0.61287385 0.66410592\n",
            " 0.74743133 0.76678446 0.77003025 0.99256366]\n"
          ]
        }
      ],
      "source": [
        "import numpy as np\n",
        "\n",
        "random_vector = np.random.rand(10)\n",
        "\n",
        "sorted_vector = np.sort(random_vector)\n",
        "\n",
        "print(\"Original random vector:\", random_vector)\n",
        "print(\"Sorted vector:\", sorted_vector)\n"
      ]
    },
    {
      "cell_type": "markdown",
      "id": "0fb4ad68",
      "metadata": {
        "id": "0fb4ad68"
      },
      "source": [
        "#### 41. How to sum a small array faster than np.sum? (★★☆)"
      ]
    },
    {
      "cell_type": "code",
      "execution_count": 16,
      "id": "a1ba05a0",
      "metadata": {
        "colab": {
          "base_uri": "https://localhost:8080/"
        },
        "id": "a1ba05a0",
        "outputId": "3557f081-7d91-48e2-ead2-1d713e03e7ab"
      },
      "outputs": [
        {
          "output_type": "stream",
          "name": "stdout",
          "text": [
            "Sum using built-in sum() function: 15\n"
          ]
        }
      ],
      "source": [
        "import numpy as np\n",
        "\n",
        "small_array = np.array([1, 2, 3, 4, 5])\n",
        "\n",
        "result = sum(small_array)\n",
        "\n",
        "print(\"Sum using built-in sum() function:\", result)\n",
        "\n"
      ]
    },
    {
      "cell_type": "markdown",
      "id": "024ac365",
      "metadata": {
        "id": "024ac365"
      },
      "source": [
        "#### 42. Consider two random array A and B, check if they are equal (★★☆)"
      ]
    },
    {
      "cell_type": "code",
      "execution_count": 17,
      "id": "7db3846d",
      "metadata": {
        "colab": {
          "base_uri": "https://localhost:8080/"
        },
        "id": "7db3846d",
        "outputId": "52f2a2a5-b29d-49fc-e26a-10f32b8f74ba"
      },
      "outputs": [
        {
          "output_type": "stream",
          "name": "stdout",
          "text": [
            "Arrays A and B are equal: False\n"
          ]
        }
      ],
      "source": [
        "import numpy as np\n",
        "\n",
        "A = np.random.rand(5)\n",
        "B = np.random.rand(5)\n",
        "\n",
        "are_equal = np.array_equal(A, B)\n",
        "\n",
        "print(\"Arrays A and B are equal:\", are_equal)\n"
      ]
    },
    {
      "cell_type": "markdown",
      "id": "c68d2401",
      "metadata": {
        "id": "c68d2401"
      },
      "source": [
        "#### 43. Make an array immutable (read-only) (★★☆)"
      ]
    },
    {
      "cell_type": "code",
      "execution_count": 18,
      "id": "7828539d",
      "metadata": {
        "colab": {
          "base_uri": "https://localhost:8080/"
        },
        "id": "7828539d",
        "outputId": "c3f8bd0a-99ca-4195-9b43-928df0f7f8cc"
      },
      "outputs": [
        {
          "output_type": "stream",
          "name": "stdout",
          "text": [
            "Error occurred: assignment destination is read-only\n",
            "Is the array immutable? True\n"
          ]
        }
      ],
      "source": [
        "import numpy as np\n",
        "\n",
        "my_array = np.array([1, 2, 3, 4, 5])\n",
        "\n",
        "my_array.setflags(write=False)\n",
        "\n",
        "try:\n",
        "    my_array[0] = 10\n",
        "except ValueError as e:\n",
        "    print(\"Error occurred:\", e)\n",
        "\n",
        "print(\"Is the array immutable?\", not my_array.flags.writeable)\n"
      ]
    },
    {
      "cell_type": "markdown",
      "id": "55df6280",
      "metadata": {
        "id": "55df6280"
      },
      "source": [
        "#### 44. Consider a random 10x2 matrix representing cartesian coordinates, convert them to polar coordinates (★★☆)"
      ]
    },
    {
      "cell_type": "code",
      "execution_count": 19,
      "id": "f1c86ea0",
      "metadata": {
        "colab": {
          "base_uri": "https://localhost:8080/"
        },
        "id": "f1c86ea0",
        "outputId": "e2dc9745-9a84-4c6e-be13-eb6d91bbeb30"
      },
      "outputs": [
        {
          "output_type": "stream",
          "name": "stdout",
          "text": [
            "Cartesian coordinates:\n",
            "[[0.90390737 0.21746632]\n",
            " [0.19141164 0.23292193]\n",
            " [0.09158013 0.02952498]\n",
            " [0.28612959 0.49123521]\n",
            " [0.11055691 0.13829401]\n",
            " [0.74310504 0.72179924]\n",
            " [0.63433816 0.24947992]\n",
            " [0.08929876 0.80718081]\n",
            " [0.40292287 0.00600392]\n",
            " [0.56252762 0.61328156]]\n",
            "\n",
            "Polar coordinates:\n",
            "[[0.92969895 0.2360978 ]\n",
            " [0.30148141 0.88291255]\n",
            " [0.09622185 0.311874  ]\n",
            " [0.56849113 1.04336654]\n",
            " [0.17705385 0.89640069]\n",
            " [1.0359533  0.77085503]\n",
            " [0.68163416 0.37470999]\n",
            " [0.81210537 1.46061395]\n",
            " [0.4029676  0.01489983]\n",
            " [0.83219685 0.8285365 ]]\n"
          ]
        }
      ],
      "source": [
        "import numpy as np\n",
        "\n",
        "cartesian_coordinates = np.random.rand(10, 2)\n",
        "\n",
        "x = cartesian_coordinates[:, 0]\n",
        "y = cartesian_coordinates[:, 1]\n",
        "\n",
        "r = np.hypot(x, y)\n",
        "theta = np.arctan2(y, x)\n",
        "\n",
        "polar_coordinates = np.column_stack((r, theta))\n",
        "\n",
        "print(\"Cartesian coordinates:\")\n",
        "print(cartesian_coordinates)\n",
        "print(\"\\nPolar coordinates:\")\n",
        "print(polar_coordinates)\n"
      ]
    },
    {
      "cell_type": "markdown",
      "id": "2f60f1ec",
      "metadata": {
        "id": "2f60f1ec"
      },
      "source": [
        "#### 45. Create random vector of size 10 and replace the maximum value by 0 (★★☆)"
      ]
    },
    {
      "cell_type": "code",
      "execution_count": 20,
      "id": "d9f48f1c",
      "metadata": {
        "colab": {
          "base_uri": "https://localhost:8080/"
        },
        "id": "d9f48f1c",
        "outputId": "562d6264-be89-42b7-a758-1439e8765618"
      },
      "outputs": [
        {
          "output_type": "stream",
          "name": "stdout",
          "text": [
            "Original random vector: [0.50359979 0.22753572 0.86999452 0.1584686  0.48443549 0.41326546\n",
            " 0.96390138 0.8132249  0.35422293 0.6621296 ]\n",
            "Vector with maximum value replaced by 0: [0.50359979 0.22753572 0.86999452 0.1584686  0.48443549 0.41326546\n",
            " 0.         0.8132249  0.35422293 0.6621296 ]\n"
          ]
        }
      ],
      "source": [
        "import numpy as np\n",
        "\n",
        "random_vector = np.random.rand(10)\n",
        "\n",
        "print(\"Original random vector:\", random_vector)\n",
        "\n",
        "max_index = np.argmax(random_vector)\n",
        "\n",
        "random_vector[max_index] = 0\n",
        "\n",
        "print(\"Vector with maximum value replaced by 0:\", random_vector)\n"
      ]
    },
    {
      "cell_type": "markdown",
      "id": "084e8ad4",
      "metadata": {
        "id": "084e8ad4"
      },
      "source": [
        "#### 46. Create a structured array with `x` and `y` coordinates covering the [0,1]x[0,1] area (★★☆)"
      ]
    },
    {
      "cell_type": "code",
      "execution_count": 22,
      "id": "58b47c13",
      "metadata": {
        "colab": {
          "base_uri": "https://localhost:8080/"
        },
        "id": "58b47c13",
        "outputId": "93b75da4-2f9e-4064-cbd7-752ca6053061"
      },
      "outputs": [
        {
          "output_type": "stream",
          "name": "stdout",
          "text": [
            "[(0.  , 0.  ) (0.25, 0.  ) (0.5 , 0.  ) (0.75, 0.  ) (1.  , 0.  )\n",
            " (0.  , 0.25) (0.25, 0.25) (0.5 , 0.25) (0.75, 0.25) (1.  , 0.25)\n",
            " (0.  , 0.5 ) (0.25, 0.5 ) (0.5 , 0.5 ) (0.75, 0.5 ) (1.  , 0.5 )\n",
            " (0.  , 0.75) (0.25, 0.75) (0.5 , 0.75) (0.75, 0.75) (1.  , 0.75)\n",
            " (0.  , 1.  ) (0.25, 1.  ) (0.5 , 1.  ) (0.75, 1.  ) (1.  , 1.  )]\n"
          ]
        }
      ],
      "source": [
        "import numpy as np\n",
        "\n",
        "grid_size = 5\n",
        "\n",
        "\n",
        "x = np.linspace(0, 1, grid_size)\n",
        "y = np.linspace(0, 1, grid_size)\n",
        "\n",
        "X, Y = np.meshgrid(x, y)\n",
        "\n",
        "structured_array = np.zeros((grid_size * grid_size,), dtype=[('x', float), ('y', float)])\n",
        "structured_array['x'] = X.flatten()\n",
        "structured_array['y'] = Y.flatten()\n",
        "\n",
        "print(structured_array)\n"
      ]
    },
    {
      "cell_type": "markdown",
      "id": "d7b9bc42",
      "metadata": {
        "id": "d7b9bc42"
      },
      "source": [
        "#### 47. Given two arrays, X and Y, construct the Cauchy matrix C (Cij =1/(xi - yj)) (★★☆)"
      ]
    },
    {
      "cell_type": "code",
      "execution_count": 23,
      "id": "a24824fb",
      "metadata": {
        "colab": {
          "base_uri": "https://localhost:8080/"
        },
        "id": "a24824fb",
        "outputId": "00272515-f64f-4524-8301-30d8a466efe4"
      },
      "outputs": [
        {
          "output_type": "stream",
          "name": "stdout",
          "text": [
            "Cauchy matrix C:\n",
            "[[-0.33333333 -0.25       -0.2       ]\n",
            " [-0.5        -0.33333333 -0.25      ]\n",
            " [-1.         -0.5        -0.33333333]]\n"
          ]
        }
      ],
      "source": [
        "import numpy as np\n",
        "\n",
        "X = np.array([1, 2, 3])\n",
        "Y = np.array([4, 5, 6])\n",
        "\n",
        "C = 1 / (X.reshape(-1, 1) - Y)\n",
        "\n",
        "print(\"Cauchy matrix C:\")\n",
        "print(C)\n"
      ]
    },
    {
      "cell_type": "markdown",
      "id": "65ebc11b",
      "metadata": {
        "id": "65ebc11b"
      },
      "source": [
        "#### 48. Print the minimum and maximum representable value for each numpy scalar type (★★☆)"
      ]
    },
    {
      "cell_type": "code",
      "execution_count": null,
      "id": "e45d38fb",
      "metadata": {
        "id": "e45d38fb"
      },
      "outputs": [],
      "source": [
        "import numpy as np\n",
        "\n",
        "print(\"Integer scalar types:\")\n",
        "for dtype in [np.int8, np.int16, np.int32, np.int64]:\n",
        "    info = np.iinfo(dtype)\n",
        "    print(f\"{dtype.__name__}: Min={info.min}, Max={info.max}\")\n",
        "\n",
        "print(\"\\nUnsigned integer scalar types:\")\n",
        "for dtype in [np.uint8, np.uint16, np.uint32, np.uint64]:\n",
        "    info = np.iinfo(dtype)\n",
        "    print(f\"{dtype.__name__}: Min={info.min}, Max={info.max}\")\n",
        "\n",
        "print(\"\\nFloating-point scalar types:\")\n",
        "for dtype in [np.float32, np.float64]:\n",
        "    info = np.finfo(dtype)\n",
        "    print(f\"{dtype.__name__}: Min={info.min}, Max={info.max}\")\n",
        "\n"
      ]
    },
    {
      "cell_type": "markdown",
      "id": "9b317a98",
      "metadata": {
        "id": "9b317a98"
      },
      "source": [
        "#### 49. How to print all the values of an array? (★★☆)"
      ]
    },
    {
      "cell_type": "code",
      "execution_count": 24,
      "id": "309cdeb9",
      "metadata": {
        "colab": {
          "base_uri": "https://localhost:8080/"
        },
        "id": "309cdeb9",
        "outputId": "55c4035d-dcb0-4d82-bfe5-c0f099f19166"
      },
      "outputs": [
        {
          "output_type": "stream",
          "name": "stdout",
          "text": [
            "1\n",
            "2\n",
            "3\n",
            "4\n",
            "5\n"
          ]
        }
      ],
      "source": [
        "my_array = [1, 2, 3, 4, 5]\n",
        "for value in my_array:\n",
        "    print(value)\n"
      ]
    },
    {
      "cell_type": "markdown",
      "id": "b580f9d0",
      "metadata": {
        "id": "b580f9d0"
      },
      "source": [
        "#### 50. How to find the closest value (to a given scalar) in a vector? (★★☆)"
      ]
    },
    {
      "cell_type": "code",
      "execution_count": 25,
      "id": "ebfb6714",
      "metadata": {
        "colab": {
          "base_uri": "https://localhost:8080/"
        },
        "id": "ebfb6714",
        "outputId": "a0c6e8c8-64cd-418c-d0ed-c7a05835a511"
      },
      "outputs": [
        {
          "output_type": "stream",
          "name": "stdout",
          "text": [
            "Closest value to 6 in the vector: 5\n"
          ]
        }
      ],
      "source": [
        "def find_closest_value(vector, target):\n",
        "    closest_value = None\n",
        "    min_difference = float('inf')\n",
        "    for value in vector:\n",
        "        difference = abs(value - target)\n",
        "        if difference < min_difference:\n",
        "            min_difference = difference\n",
        "            closest_value = value\n",
        "\n",
        "    return closest_value\n",
        "\n",
        "vector = [1, 3, 5, 7, 9]\n",
        "target = 6\n",
        "closest = find_closest_value(vector, target)\n",
        "print(\"Closest value to\", target, \"in the vector:\", closest)\n"
      ]
    }
  ],
  "metadata": {
    "colab": {
      "provenance": [],
      "toc_visible": true
    },
    "language_info": {
      "name": "python"
    },
    "kernelspec": {
      "name": "python3",
      "display_name": "Python 3"
    }
  },
  "nbformat": 4,
  "nbformat_minor": 5
}